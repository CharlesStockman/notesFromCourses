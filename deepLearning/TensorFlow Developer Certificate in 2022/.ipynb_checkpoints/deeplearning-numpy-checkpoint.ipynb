{
 "cells": [
  {
   "cell_type": "markdown",
   "id": "fdb4cb9a",
   "metadata": {},
   "source": [
    "# Numpy\n",
    "\n",
    "1. It is fast since the code is written in C\n",
    "2. Vectorization via broadcasting ( avoided writing loop)\n",
    "3. The datastructure is ndArray"
   ]
  },
  {
   "cell_type": "code",
   "execution_count": 80,
   "id": "3a696133",
   "metadata": {},
   "outputs": [],
   "source": [
    "import numpy as np\n",
    "import matplotlib.pyplot as plt\n",
    "\n",
    "# Create a separation to separate different values being printed out\n",
    "separator=\"======================\"\n"
   ]
  },
  {
   "cell_type": "markdown",
   "id": "83745b5d",
   "metadata": {},
   "source": [
    "# Create Vectors and provide some information\n",
    "\n",
    "Document Shape, number of dimensions and size, datatype of array ( At least one float, the datatype is float)"
   ]
  },
  {
   "cell_type": "code",
   "execution_count": 81,
   "id": "6e542c42",
   "metadata": {},
   "outputs": [
    {
     "name": "stdout",
     "output_type": "stream",
     "text": [
      "The type of a1 is  <class 'numpy.ndarray'>\n",
      "a1 is Vector with a shape of  (3,)  and number of dimensions  1  and size =  3  and type =  int64\n",
      "a2 is Vector with a shape of  (2, 3)  and number of dimensions  2  and size =  6  and type =  int64\n",
      "a3 is Vector with a shape of  (2, 3, 3)  and number of dimensions  3  and size =  18  and type =  float64\n"
     ]
    }
   ],
   "source": [
    "# Create Vector, Matrix and N-Dimensional Array\n",
    "# If there is one more number with a decimal point the dtype changes to float\n",
    "a1 = np.array([1,2,3])\n",
    "a2 = np.array([ [1,2,3], [4,5,6]])\n",
    "a3 = np.array([ [[1,2,3.3], [4,5,6.8], [7,8,9]], [[10, 11, 12], [13, 14, 15], [16, 17, 18]] ]  )\n",
    "\n",
    "print(\"The type of a1 is \", type(a1))\n",
    "\n",
    "print(\"a1 is Vector with a shape of \", a1.shape, \" and number of dimensions \", a1.ndim, \" and size = \", a1.size, \" and type = \", a1.dtype)\n",
    "print(\"a2 is Vector with a shape of \", a2.shape, \" and number of dimensions \", a2.ndim, \" and size = \", a2.size, \" and type = \", a2.dtype)\n",
    "print(\"a3 is Vector with a shape of \", a3.shape, \" and number of dimensions \", a3.ndim, \" and size = \", a3.size, \" and type = \", a3.dtype)"
   ]
  },
  {
   "cell_type": "markdown",
   "id": "32490b70",
   "metadata": {},
   "source": [
    "# Create a matrix of zeros, ones and a range\n",
    "1. create a matrix of zeros\n",
    "2. create a matrix of ones\n",
    "3. create a vector using arange"
   ]
  },
  {
   "cell_type": "code",
   "execution_count": 82,
   "id": "2156e06c",
   "metadata": {},
   "outputs": [
    {
     "data": {
      "text/plain": [
       "(array([[0., 0., 0.],\n",
       "        [0., 0., 0.]]),\n",
       " '======================',\n",
       " array([[1., 1., 1.],\n",
       "        [1., 1., 1.]]),\n",
       " '======================',\n",
       " array([ 0,  3,  6,  9, 12, 15, 18, 21, 24, 27]))"
      ]
     },
     "execution_count": 82,
     "metadata": {},
     "output_type": "execute_result"
    }
   ],
   "source": [
    "a4 = np.zeros( (2,3))\n",
    "a5 = np.ones( (2,3))\n",
    "a6 = np.arange(0, 30 , 3)\n",
    "a4, separator, a5, separator, a6"
   ]
  },
  {
   "cell_type": "markdown",
   "id": "498743ab",
   "metadata": {},
   "source": [
    "# Create Random Values\n",
    "\n",
    "1. Random numbers are psuedo numbers\n",
    "1. Create an random array from 1 to 10 \n",
    "2. random.rand -- A matlab conveinance function where each paramaeter is a different function generated values (0,1]\n",
    "3. random.random -- An array that is a random (0, 1]"
   ]
  },
  {
   "cell_type": "code",
   "execution_count": 83,
   "id": "7f2947e5",
   "metadata": {},
   "outputs": [
    {
     "data": {
      "text/plain": [
       "(array([[3, 2, 7, 2, 0],\n",
       "        [0, 4, 5, 5, 6],\n",
       "        [8, 4, 1, 4, 9]]),\n",
       " '======================',\n",
       " array([[[0.44994999, 0.61306346, 0.90234858],\n",
       "         [0.09928035, 0.96980907, 0.65314004],\n",
       "         [0.17090959, 0.35815217, 0.75068614]],\n",
       " \n",
       "        [[0.60783067, 0.32504723, 0.03842543],\n",
       "         [0.63427406, 0.95894927, 0.65279032],\n",
       "         [0.63505887, 0.99529957, 0.58185033]],\n",
       " \n",
       "        [[0.41436859, 0.4746975 , 0.6235101 ],\n",
       "         [0.33800761, 0.67475232, 0.31720174],\n",
       "         [0.77834548, 0.94957105, 0.66252687]],\n",
       " \n",
       "        [[0.01357164, 0.6228461 , 0.67365963],\n",
       "         [0.971945  , 0.87819347, 0.50962438],\n",
       "         [0.05571469, 0.45115921, 0.01998767]],\n",
       " \n",
       "        [[0.44171092, 0.97958673, 0.35944446],\n",
       "         [0.48089353, 0.68866118, 0.88047589],\n",
       "         [0.91823547, 0.21682214, 0.56518887]]]),\n",
       " '======================',\n",
       " array([[0.86510256, 0.50896896, 0.91672295],\n",
       "        [0.92115761, 0.08311249, 0.27771856],\n",
       "        [0.0093567 , 0.84234208, 0.64717414],\n",
       "        [0.84138612, 0.26473016, 0.39782075],\n",
       "        [0.55282148, 0.16494046, 0.36980809]]))"
      ]
     },
     "execution_count": 83,
     "metadata": {},
     "output_type": "execute_result"
    }
   ],
   "source": [
    "a7 = np.random.randint( 0, 10, size=(3,5))\n",
    "a8 = np.random.rand(5,3, 3)                 # A helper function for Match\n",
    "a9 = np.random.random( size=(5,3))          # Returns the values between 0 and 1 and allow the size to be selected\n",
    "\n",
    "a7, separator, a8, separator, a9"
   ]
  },
  {
   "cell_type": "markdown",
   "id": "b8ac8ca4",
   "metadata": {},
   "source": [
    "# Show how the random seed \n",
    "1. Shows how the seed allows the randon data structures will not change their values. \n",
    "3. Shows the unique.  Collect the Set of numbers in the Array."
   ]
  },
  {
   "cell_type": "code",
   "execution_count": 84,
   "id": "39f6b54c",
   "metadata": {},
   "outputs": [
    {
     "data": {
      "text/plain": [
       "(array([[5, 8, 9],\n",
       "        [5, 0, 0],\n",
       "        [1, 7, 6],\n",
       "        [9, 2, 4],\n",
       "        [5, 2, 4]]),\n",
       " '======================',\n",
       " array([0, 1, 2, 3, 4, 5, 6, 7, 8, 9]))"
      ]
     },
     "execution_count": 84,
     "metadata": {},
     "output_type": "execute_result"
    }
   ],
   "source": [
    "np.random.seed(seed=1)\n",
    "a10 = np.random.randint(0, 10, size=(5,3))\n",
    "a10, separator, np.unique(a7)"
   ]
  },
  {
   "cell_type": "markdown",
   "id": "a6f3a8f8",
   "metadata": {},
   "source": [
    "# View Arrays and Matrices\n",
    "1.  Access a matrix by row and selecting a single element\n",
    "2.  Create a multidimensional array where we do slicing one dimension at a time.\n",
    "       numpy display array fomr the outside to the inside\n",
    "       Further number on righ of the size is the inner most\n",
    "       "
   ]
  },
  {
   "cell_type": "code",
   "execution_count": 85,
   "id": "d538ff4f",
   "metadata": {},
   "outputs": [
    {
     "data": {
      "text/plain": [
       "(array([[1, 2, 3],\n",
       "        [4, 5, 6]]),\n",
       " '======================',\n",
       " array([4, 5, 6]),\n",
       " '======================',\n",
       " 3,\n",
       " '======================',\n",
       " array([[[[2, 4, 7, 7, 9],\n",
       "          [1, 7, 0, 6, 9],\n",
       "          [9, 7, 6, 9, 1],\n",
       "          [0, 1, 8, 8, 3]],\n",
       " \n",
       "         [[9, 8, 7, 3, 6],\n",
       "          [5, 1, 9, 3, 4],\n",
       "          [8, 1, 4, 0, 3],\n",
       "          [9, 2, 0, 4, 9]],\n",
       " \n",
       "         [[2, 7, 7, 9, 8],\n",
       "          [6, 9, 3, 7, 7],\n",
       "          [4, 5, 9, 3, 6],\n",
       "          [8, 0, 2, 7, 7]]],\n",
       " \n",
       " \n",
       "        [[[9, 7, 3, 0, 8],\n",
       "          [7, 7, 1, 1, 3],\n",
       "          [0, 8, 6, 4, 5],\n",
       "          [6, 2, 5, 7, 8]],\n",
       " \n",
       "         [[4, 4, 7, 7, 4],\n",
       "          [9, 0, 2, 0, 7],\n",
       "          [1, 7, 9, 8, 4],\n",
       "          [0, 1, 9, 8, 2]],\n",
       " \n",
       "         [[3, 1, 2, 7, 2],\n",
       "          [6, 0, 9, 2, 6],\n",
       "          [6, 2, 7, 7, 0],\n",
       "          [6, 5, 1, 4, 6]]]]),\n",
       " '======================',\n",
       " array([[[9, 9, 1, 3],\n",
       "         [6, 4, 3, 9],\n",
       "         [8, 7, 6, 7]],\n",
       " \n",
       "        [[8, 3, 5, 8],\n",
       "         [4, 7, 4, 2],\n",
       "         [2, 6, 0, 6]]]),\n",
       " '======================',\n",
       " array([[[0, 1, 8, 8, 3],\n",
       "         [9, 2, 0, 4, 9],\n",
       "         [8, 0, 2, 7, 7]],\n",
       " \n",
       "        [[6, 2, 5, 7, 8],\n",
       "         [0, 1, 9, 8, 2],\n",
       "         [6, 5, 1, 4, 6]]]),\n",
       " '======================',\n",
       " array([[[2, 7, 7, 9, 8],\n",
       "         [6, 9, 3, 7, 7],\n",
       "         [4, 5, 9, 3, 6],\n",
       "         [8, 0, 2, 7, 7]],\n",
       " \n",
       "        [[3, 1, 2, 7, 2],\n",
       "         [6, 0, 9, 2, 6],\n",
       "         [6, 2, 7, 7, 0],\n",
       "         [6, 5, 1, 4, 6]]]),\n",
       " '======================',\n",
       " array([[[9, 7, 3, 0, 8],\n",
       "         [7, 7, 1, 1, 3],\n",
       "         [0, 8, 6, 4, 5],\n",
       "         [6, 2, 5, 7, 8]],\n",
       " \n",
       "        [[4, 4, 7, 7, 4],\n",
       "         [9, 0, 2, 0, 7],\n",
       "         [1, 7, 9, 8, 4],\n",
       "         [0, 1, 9, 8, 2]],\n",
       " \n",
       "        [[3, 1, 2, 7, 2],\n",
       "         [6, 0, 9, 2, 6],\n",
       "         [6, 2, 7, 7, 0],\n",
       "         [6, 5, 1, 4, 6]]]))"
      ]
     },
     "execution_count": 85,
     "metadata": {},
     "output_type": "execute_result"
    }
   ],
   "source": [
    "a11 = np.random.randint(0,10,size=(2,3,4,5))\n",
    "a2, separator, a2[1], separator, a2[0][2], \\\n",
    "    separator, a11, separator, a11[:,:,:,4], \\\n",
    "    separator, a11[:,:,3,:], \\\n",
    "    separator,a11[:,2,:,:], \\\n",
    "    separator, a11[1,:,:,:]"
   ]
  },
  {
   "cell_type": "markdown",
   "id": "cee7dfd3",
   "metadata": {},
   "source": [
    "# Manipulating Arrays -- Arithmetic\n",
    "\n",
    "1. Mathmatical Operators + , - , *, /, // (floor division), **, %, exp, log\n",
    "2. a1 + a2 = np.add(a1,a2) \n",
    "4. The smaller array is broadcast against the bigger array so they have compatible shapes.\n",
    "5. Two Dimensions are compatible when they are equal or one of them is one"
   ]
  },
  {
   "cell_type": "code",
   "execution_count": 86,
   "id": "79cf00d9",
   "metadata": {},
   "outputs": [
    {
     "data": {
      "text/plain": [
       "(array([1, 2, 3]),\n",
       " array([[1., 1., 1.],\n",
       "        [1., 1., 1.]]),\n",
       " array([[1, 2, 3],\n",
       "        [4, 5, 6]]),\n",
       " '======================',\n",
       " array([[2., 3., 4.],\n",
       "        [2., 3., 4.]]),\n",
       " '======================',\n",
       " array([[2, 4, 6],\n",
       "        [5, 7, 9]]),\n",
       " '======================',\n",
       " array([[0, 0, 0],\n",
       "        [3, 3, 3]]),\n",
       " '======================',\n",
       " array([[ 1,  4,  9],\n",
       "        [ 4, 10, 18]]),\n",
       " '======================',\n",
       " array([ 2.71828183,  7.3890561 , 20.08553692]),\n",
       " '======================',\n",
       " array([0.        , 0.69314718, 1.09861229]))"
      ]
     },
     "execution_count": 86,
     "metadata": {},
     "output_type": "execute_result"
    }
   ],
   "source": [
    "a1, a5, a2, separator, a1 + a5, separator, a2 + a1, separator, a2 - a1, separator, a1 * a2, separator, np.exp(a1), separator, np.log(a1)"
   ]
  },
  {
   "cell_type": "markdown",
   "id": "a8547090",
   "metadata": {},
   "source": [
    "# Manipulating Arrays -- Agreegation and Standard Deviation and Variance\n",
    "1. Create a ndArray from a python list and perform an action on all the values\n",
    "2. The two timeit expressions show the different between the speed of a python operation and a numpy operation\n",
    "3. Aggregation mean, min, std, var\n",
    "4. Standard Deviation and Variance\n",
    "\n",
    "    std -- How spread out a group of number is from the mean. Average distance from the mean. SqrRoot of variance\n",
    "        average distance away from mean ( or the next number )\n",
    "    var -- How different are the values ( high -- wider range of variance, low -- lower range of variance )\n",
    "5. numpy sum is 500 time faster than pythons sum "
   ]
  },
  {
   "cell_type": "code",
   "execution_count": 87,
   "id": "e45bd804",
   "metadata": {},
   "outputs": [
    {
     "name": "stdout",
     "output_type": "stream",
     "text": [
      "955 µs ± 14.8 µs per loop (mean ± std. dev. of 7 runs, 1,000 loops each)\n",
      "13.6 µs ± 271 ns per loop (mean ± std. dev. of 7 runs, 100,000 loops each)\n"
     ]
    },
    {
     "data": {
      "text/plain": [
       "(array([1, 2, 3]),\n",
       " array([0.5270581 , 0.8859421 , 0.35726976, 0.90853515, 0.62336012,\n",
       "        0.01582124, 0.92943723, 0.69089692, 0.99732285, 0.17234051,\n",
       "        0.13713575, 0.93259546, 0.69681816, 0.06600017, 0.75546305,\n",
       "        0.75387619, 0.92302454, 0.71152476, 0.12427096, 0.01988013,\n",
       "        0.02621099, 0.02830649, 0.24621107, 0.86002795, 0.53883106,\n",
       "        0.55282198, 0.84203089, 0.12417332, 0.27918368, 0.58575927,\n",
       "        0.96959575, 0.56103022, 0.01864729, 0.80063267, 0.23297427,\n",
       "        0.8071052 , 0.38786064, 0.86354185, 0.74712164, 0.55624023,\n",
       "        0.13645523, 0.05991769, 0.12134346, 0.04455188, 0.10749413,\n",
       "        0.22570934, 0.71298898, 0.55971698, 0.01255598, 0.07197428,\n",
       "        0.96727633, 0.56810046, 0.20329323, 0.25232574, 0.74382585,\n",
       "        0.19542948, 0.58135893, 0.97001999, 0.8468288 , 0.23984776,\n",
       "        0.49376971, 0.61995572, 0.8289809 , 0.15679139, 0.0185762 ,\n",
       "        0.07002214, 0.48634511, 0.60632946, 0.56885144, 0.31736241,\n",
       "        0.98861615, 0.57974522, 0.38014117, 0.55094822, 0.74533443,\n",
       "        0.66923289, 0.26491956, 0.06633483, 0.3700842 , 0.62971751,\n",
       "        0.21017401, 0.75275555, 0.06653648, 0.2603151 , 0.80475456,\n",
       "        0.19343428, 0.63946088, 0.52467031, 0.92480797, 0.26329677,\n",
       "        0.06596109, 0.73506596, 0.77217803, 0.90781585, 0.93197207,\n",
       "        0.01395157, 0.23436209, 0.61677836, 0.94901632, 0.95017612]),\n",
       " 0.4985941966585629,\n",
       " '======================',\n",
       " 9.695068767479054e-05,\n",
       " '======================',\n",
       " 1.707825127659933,\n",
       " '======================',\n",
       " 0.08275133550109745)"
      ]
     },
     "execution_count": 87,
     "metadata": {},
     "output_type": "execute_result"
    }
   ],
   "source": [
    "python_list = [1,2,3]\n",
    "a12 = np.array(python_list)\n",
    "massive_array = np.random.random(10000)\n",
    "%timeit sum(massive_array)  \n",
    "%timeit np.sum(massive_array)\n",
    "a1, massive_array[:100], massive_array.mean(), separator, massive_array.min(), separator, np.std(a2), separator, np.var(massive_array)\n",
    "\n"
   ]
  },
  {
   "cell_type": "code",
   "execution_count": 88,
   "id": "0794d080",
   "metadata": {},
   "outputs": [
    {
     "name": "stdout",
     "output_type": "stream",
     "text": [
      "995 µs ± 37.7 µs per loop (mean ± std. dev. of 7 runs, 1,000 loops each)\n"
     ]
    }
   ],
   "source": [
    "%timeit sum(massive_array)"
   ]
  },
  {
   "cell_type": "markdown",
   "id": "c3a843d9",
   "metadata": {},
   "source": [
    "## More on Standard Deviation and Vairance \n"
   ]
  },
  {
   "cell_type": "code",
   "execution_count": 89,
   "id": "ec495c27",
   "metadata": {},
   "outputs": [
    {
     "name": "stdout",
     "output_type": "stream",
     "text": [
      "The variance of high_var_array is  4296133.472222221\n",
      "The variance of low_var_array is  8.0\n",
      "The standard deviation of high_std_array is  2072.711623024829\n",
      "The standard deviation of low_std_array is  2.8284271247461903\n"
     ]
    }
   ],
   "source": [
    "high_var_array = np.array([1,100,200,300,4000,5000])\n",
    "low_var_array = np.array([2, 4, 6, 8 ,10])\n",
    "print(\"The variance of high_var_array is \", high_var_array.var())\n",
    "print(\"The variance of low_var_array is \", low_var_array.var())\n",
    "print(\"The standard deviation of high_std_array is \", high_var_array.std())\n",
    "print(\"The standard deviation of low_std_array is \", low_var_array.std())\n",
    "\n"
   ]
  },
  {
   "cell_type": "code",
   "execution_count": 90,
   "id": "f65b37ce",
   "metadata": {},
   "outputs": [
    {
     "data": {
      "image/png": "[encoded data removed]",
      "text/plain": [
       "<Figure size 432x288 with 1 Axes>"
      ]
     },
     "metadata": {
      "needs_background": "light"
     },
     "output_type": "display_data"
    }
   ],
   "source": [
    "%matplotlib inline\n",
    "plt.hist(low_var_array)\n",
    "plt.show()"
   ]
  },
  {
   "cell_type": "code",
   "execution_count": 91,
   "id": "794a2353",
   "metadata": {},
   "outputs": [
    {
     "data": {
      "image/png": "[encoded data removed]",
      "text/plain": [
       "<Figure size 432x288 with 1 Axes>"
      ]
     },
     "metadata": {
      "needs_background": "light"
     },
     "output_type": "display_data"
    }
   ],
   "source": [
    "%matplotlib inline\n",
    "plt.hist(high_var_array)\n",
    "plt.show()"
   ]
  },
  {
   "cell_type": "markdown",
   "id": "ae84dae3",
   "metadata": {},
   "source": [
    "# Reshape and Transpose\n",
    "   reshape -- Returns the array containing the same data, but a different shape\n",
    "      Using the orginal shapes ( (2,3) and (2,3,3) ) they could not be multiplied so the shape was changed.\n",
    "   Transpose -- Flips the axis and reshape useful for the Dot Product"
   ]
  },
  {
   "cell_type": "code",
   "execution_count": 92,
   "id": "6140b220",
   "metadata": {},
   "outputs": [
    {
     "name": "stdout",
     "output_type": "stream",
     "text": [
      "Original A2 shapes is  (2, 3)\n",
      "Original A3.shape is (2, 3, 3)\n",
      "Reshaping a2 to a13 is  (2, 3, 1)\n",
      "Mutliply a3 * a13 is \n",
      " [[[  1.    2.    3.3]\n",
      "  [  8.   10.   13.6]\n",
      "  [ 21.   24.   27. ]]\n",
      "\n",
      " [[ 40.   44.   48. ]\n",
      "  [ 65.   70.   75. ]\n",
      "  [ 96.  102.  108. ]]]\n",
      "Transpose is =  (3, 2)\n",
      "Transpose is =  (3, 3, 2)\n"
     ]
    }
   ],
   "source": [
    "a13 = a2.reshape(2,3,1)\n",
    "print(\"Original A2 shapes is \", a2.shape)\n",
    "print(\"Original A3.shape is\", a3.shape)\n",
    "print(\"Reshaping a2 to a13 is \", a13.shape)\n",
    "print(\"Mutliply a3 * a13 is \\n\", a3 * a13)\n",
    "print(\"Transpose is = \", a2.T.shape)\n",
    "print(\"Transpose is = \", a3.T.shape)"
   ]
  },
  {
   "attachments": {
    "Screen%20Shot%202022-03-06%20at%208.02.41%20PM.png": {
     "image/png": "[encoded data removed]"
    }
   },
   "cell_type": "markdown",
   "id": "60fe1348",
   "metadata": {},
   "source": [
    "# Dot Element vs Element Wise\n",
    "![Screen%20Shot%202022-03-06%20at%208.02.41%20PM.png](attachment:Screen%20Shot%202022-03-06%20at%208.02.41%20PM.png)"
   ]
  },
  {
   "cell_type": "code",
   "execution_count": 93,
   "id": "07e5e4eb",
   "metadata": {},
   "outputs": [
    {
     "data": {
      "text/plain": [
       "(array([[5, 0, 3],\n",
       "        [3, 7, 9],\n",
       "        [3, 5, 2],\n",
       "        [4, 7, 6],\n",
       "        [8, 8, 1]]),\n",
       " '======================',\n",
       " array([[6, 7, 7],\n",
       "        [8, 1, 5],\n",
       "        [9, 8, 9],\n",
       "        [4, 3, 0],\n",
       "        [3, 5, 0]]),\n",
       " '======================',\n",
       " array([[30,  0, 21],\n",
       "        [24,  7, 45],\n",
       "        [27, 40, 18],\n",
       "        [16, 21,  0],\n",
       "        [24, 40,  0]]),\n",
       " array([[ 51,  55,  72,  20,  15],\n",
       "        [130,  76, 164,  33,  44],\n",
       "        [ 67,  39,  85,  27,  34],\n",
       "        [115,  69, 146,  37,  47],\n",
       "        [111,  77, 145,  56,  64]]))"
      ]
     },
     "execution_count": 93,
     "metadata": {},
     "output_type": "execute_result"
    }
   ],
   "source": [
    "np.random.seed(0)\n",
    "mat1 = np.random.randint(10, size=(5,3))\n",
    "mat2 = np.random.randint(10, size=(5,3))\n",
    "mat1, separator, mat2, separator, mat1 * mat2, np.dot(mat1,mat2.T)                "
   ]
  },
  {
   "cell_type": "markdown",
   "id": "e2f8a657",
   "metadata": {},
   "source": [
    "# Comparision Operators and Array \n",
    "operators : >, <, >=, <=, ==\n",
    "\n"
   ]
  },
  {
   "cell_type": "code",
   "execution_count": 94,
   "id": "6ddaa784",
   "metadata": {},
   "outputs": [
    {
     "data": {
      "text/plain": [
       "(array([[ True,  True,  True],\n",
       "        [ True,  True,  True]]),\n",
       " array([[False, False, False],\n",
       "        [False, False, False]]),\n",
       " array([[ True,  True,  True],\n",
       "        [ True,  True,  True]]),\n",
       " array([[False, False, False],\n",
       "        [False, False, False]]))"
      ]
     },
     "execution_count": 94,
     "metadata": {},
     "output_type": "execute_result"
    }
   ],
   "source": [
    "a2, a4\n",
    "a2 > a4, a2 < a4, a2 >= a4, a2 == a4"
   ]
  },
  {
   "cell_type": "code",
   "execution_count": 95,
   "id": "314a11d8",
   "metadata": {},
   "outputs": [
    {
     "data": {
      "text/plain": [
       "(array([[ True,  True,  True],\n",
       "        [ True,  True,  True]]),\n",
       " array([[False, False, False],\n",
       "        [False, False, False]]),\n",
       " array([[ True,  True,  True],\n",
       "        [ True,  True,  True]]),\n",
       " array([[False, False, False],\n",
       "        [False, False, False]]),\n",
       " \"The type of the array is <class 'numpy.ndarray'>\")"
      ]
     },
     "execution_count": 95,
     "metadata": {},
     "output_type": "execute_result"
    }
   ],
   "source": [
    "a2 > a4, a2 < a4, a2 >= a4, a2 == a4, \"The type of the array is \" + str(type(a2 > a4))"
   ]
  },
  {
   "cell_type": "markdown",
   "id": "214c8e64",
   "metadata": {},
   "source": [
    "# Sorting Array\n",
    "\n",
    "A note on the size : \n",
    "    A size of (10,) will give you a vector and 10 elements\n",
    "    A size of(10,1) will give you a vector with each element in its own array\n",
    "    \n",
    "1. Do a sort for each row so the columns in the row are sorted\n",
    "2. argSort where the indexes become the values for the array so that all the cells are sorted for one row.\n",
    "3. Returns the mininium for each unit along an axis"
   ]
  },
  {
   "cell_type": "code",
   "execution_count": 96,
   "id": "18ecb795",
   "metadata": {},
   "outputs": [
    {
     "name": "stdout",
     "output_type": "stream",
     "text": [
      "Unsorted Array = \n",
      " [[2 3 8 1 3]\n",
      " [3 3 7 0 1]\n",
      " [9 9 0 4 7]]\n",
      "======================\n",
      "Sort Values By Row \n",
      " [[1 2 3 3 8]\n",
      " [0 1 3 3 7]\n",
      " [0 4 7 9 9]]\n",
      "======================\n",
      "Sort Values By Row where the index becomes the value for the cells in the  array\n",
      " [[3 0 1 4 2]\n",
      " [3 4 0 1 2]\n",
      " [2 3 4 0 1]]\n",
      "======================\n",
      "Returns the indices of the minimum values along an axis. [3 3 2]\n"
     ]
    }
   ],
   "source": [
    "unsortedArray = np.random.randint(10, size=(3,5))\n",
    "print(\"Unsorted Array = \\n\", unsortedArray)\n",
    "print(separator)\n",
    "print(\"Sort Values By Row \\n\", np.sort(unsortedArray))\n",
    "print(separator)\n",
    "print(\"Sort Values By Row where the index becomes the value for the cells in the  array\\n\", np.argsort(unsortedArray))\n",
    "print(separator)\n",
    "print(\"Returns the indices of the minimum values along an axis.\", np.argmin(unsortedArray, axis=1))"
   ]
  },
  {
   "cell_type": "markdown",
   "id": "19d5ed7d",
   "metadata": {},
   "source": [
    "# Images\n",
    "\n",
    "Each value in the array is a color"
   ]
  },
  {
   "cell_type": "code",
   "execution_count": 97,
   "id": "d95ad70d",
   "metadata": {},
   "outputs": [
    {
     "data": {
      "text/plain": [
       "array([[[0., 0., 0., 1.],\n",
       "        [0., 0., 0., 1.],\n",
       "        [0., 0., 0., 1.],\n",
       "        ...,\n",
       "        [0., 0., 0., 1.],\n",
       "        [0., 0., 0., 1.],\n",
       "        [0., 0., 0., 1.]],\n",
       "\n",
       "       [[0., 0., 0., 1.],\n",
       "        [0., 0., 0., 1.],\n",
       "        [0., 0., 0., 1.],\n",
       "        ...,\n",
       "        [0., 0., 0., 1.],\n",
       "        [0., 0., 0., 1.],\n",
       "        [0., 0., 0., 1.]],\n",
       "\n",
       "       [[0., 0., 0., 1.],\n",
       "        [0., 0., 0., 1.],\n",
       "        [0., 0., 0., 1.],\n",
       "        ...,\n",
       "        [0., 0., 0., 1.],\n",
       "        [0., 0., 0., 1.],\n",
       "        [0., 0., 0., 1.]],\n",
       "\n",
       "       ...,\n",
       "\n",
       "       [[0., 0., 0., 1.],\n",
       "        [0., 0., 0., 1.],\n",
       "        [0., 0., 0., 1.],\n",
       "        ...,\n",
       "        [0., 0., 0., 1.],\n",
       "        [0., 0., 0., 1.],\n",
       "        [0., 0., 0., 1.]],\n",
       "\n",
       "       [[0., 0., 0., 1.],\n",
       "        [0., 0., 0., 1.],\n",
       "        [0., 0., 0., 1.],\n",
       "        ...,\n",
       "        [0., 0., 0., 1.],\n",
       "        [0., 0., 0., 1.],\n",
       "        [0., 0., 0., 1.]],\n",
       "\n",
       "       [[0., 0., 0., 1.],\n",
       "        [0., 0., 0., 1.],\n",
       "        [0., 0., 0., 1.],\n",
       "        ...,\n",
       "        [0., 0., 0., 1.],\n",
       "        [0., 0., 0., 1.],\n",
       "        [0., 0., 0., 1.]]], dtype=float32)"
      ]
     },
     "execution_count": 97,
     "metadata": {},
     "output_type": "execute_result"
    }
   ],
   "source": [
    "image =plt.imread(\"images/00-how-a-network-learns.png\", format=\"png\")\n",
    "image"
   ]
  },
  {
   "cell_type": "code",
   "execution_count": null,
   "id": "43ec671d",
   "metadata": {},
   "outputs": [],
   "source": []
  }
 ],
 "metadata": {
  "kernelspec": {
   "display_name": "Python 3 (ipykernel)",
   "language": "python",
   "name": "python3"
  },
  "language_info": {
   "codemirror_mode": {
    "name": "ipython",
    "version": 3
   },
   "file_extension": ".py",
   "mimetype": "text/x-python",
   "name": "python",
   "nbconvert_exporter": "python",
   "pygments_lexer": "ipython3",
   "version": "3.9.13"
  }
 },
 "nbformat": 4,
 "nbformat_minor": 5
}
